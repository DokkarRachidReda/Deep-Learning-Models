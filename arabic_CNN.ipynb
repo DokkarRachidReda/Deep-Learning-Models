{
  "nbformat": 4,
  "nbformat_minor": 0,
  "metadata": {
    "colab": {
      "name": "arabic_CNN.ipynb",
      "version": "0.3.2",
      "provenance": [],
      "collapsed_sections": []
    },
    "kernelspec": {
      "name": "python3",
      "display_name": "Python 3"
    },
    "accelerator": "GPU"
  },
  "cells": [
    {
      "cell_type": "code",
      "metadata": {
        "id": "n99qOcOIxnAr",
        "colab_type": "code",
        "colab": {}
      },
      "source": [
        ""
      ],
      "execution_count": 0,
      "outputs": []
    },
    {
      "cell_type": "markdown",
      "metadata": {
        "id": "4x3HpkhQodEO",
        "colab_type": "text"
      },
      "source": [
        "# Arabic letters classification with CNN\n",
        "## accuracy : 85.4 %\n",
        "## traininig accuracy : 94.8 %\n",
        "## Dataset : \n",
        "the training set containe 13440 image \n",
        "the test set containe 2760 image\n",
        "\n",
        "the images are 32x32 with 3 channels "
      ]
    },
    {
      "cell_type": "code",
      "metadata": {
        "id": "nHc9YSxFxuVz",
        "colab_type": "code",
        "outputId": "ac229dd8-deff-44d1-8e76-32d9fd565c27",
        "colab": {
          "base_uri": "https://localhost:8080/",
          "height": 122
        }
      },
      "source": [
        "from google.colab import drive\n",
        "drive.mount('/content/drive')"
      ],
      "execution_count": 1,
      "outputs": [
        {
          "output_type": "stream",
          "text": [
            "Go to this URL in a browser: https://accounts.google.com/o/oauth2/auth?client_id=947318989803-6bn6qk8qdgf4n4g3pfee6491hc0brc4i.apps.googleusercontent.com&redirect_uri=urn%3Aietf%3Awg%3Aoauth%3A2.0%3Aoob&scope=email%20https%3A%2F%2Fwww.googleapis.com%2Fauth%2Fdocs.test%20https%3A%2F%2Fwww.googleapis.com%2Fauth%2Fdrive%20https%3A%2F%2Fwww.googleapis.com%2Fauth%2Fdrive.photos.readonly%20https%3A%2F%2Fwww.googleapis.com%2Fauth%2Fpeopleapi.readonly&response_type=code\n",
            "\n",
            "Enter your authorization code:\n",
            "··········\n",
            "Mounted at /content/drive\n"
          ],
          "name": "stdout"
        }
      ]
    },
    {
      "cell_type": "code",
      "metadata": {
        "id": "DfasQ3RbiSZP",
        "colab_type": "code",
        "colab": {}
      },
      "source": [
        "! unzip './drive/My Drive/Dataset/arabic_train.zip' -d './arabic_train' > './zip_train.txt'\n",
        "\n",
        "! unzip './drive/My Drive/Dataset/arabic_test.zip' -d './arabic_test' > './zip_test.txt'"
      ],
      "execution_count": 0,
      "outputs": []
    },
    {
      "cell_type": "code",
      "metadata": {
        "id": "LR0W99Vv2Cao",
        "colab_type": "code",
        "outputId": "8edd3115-72e9-416a-a669-425e9764ef37",
        "colab": {
          "base_uri": "https://localhost:8080/",
          "height": 34
        }
      },
      "source": [
        "import torch\n",
        "from torchvision import datasets, transforms\n",
        "import numpy as np\n",
        "import matplotlib.pyplot as plt\n",
        "from torch.optim import lr_scheduler\n",
        "from torch.autograd import Variable\n",
        "\n",
        "train_on_gpu = torch.cuda.is_available()\n",
        "\n",
        "if not train_on_gpu:\n",
        "    print('CUDA is not available.  Training on CPU ...')\n",
        "else:\n",
        "    print('CUDA is available!  Training on GPU ...')"
      ],
      "execution_count": 3,
      "outputs": [
        {
          "output_type": "stream",
          "text": [
            "CUDA is available!  Training on GPU ...\n"
          ],
          "name": "stdout"
        }
      ]
    },
    {
      "cell_type": "code",
      "metadata": {
        "id": "sbH02aBf2Frd",
        "colab_type": "code",
        "colab": {}
      },
      "source": [
        "data_dir = './arabic_train'\n",
        "torch.set_default_tensor_type('torch.cuda.FloatTensor')\n",
        "\n",
        "transform = transforms.Compose([transforms.Resize(32),\n",
        "                                transforms.CenterCrop(32),\n",
        "                                transforms.ToTensor()])\n",
        "dataset = datasets.ImageFolder(data_dir, transform=transform)\n",
        "dataloader = torch.utils.data.DataLoader(dataset, batch_size=64, shuffle=True)"
      ],
      "execution_count": 0,
      "outputs": []
    },
    {
      "cell_type": "code",
      "metadata": {
        "id": "uvgxVLxh2XPE",
        "colab_type": "code",
        "outputId": "ff056368-c30d-4045-e174-f33e9d136746",
        "colab": {
          "base_uri": "https://localhost:8080/",
          "height": 347
        }
      },
      "source": [
        "import Helper\n",
        "images, labels = next(iter(dataloader))\n",
        "Helper.imshow(images[10], normalize=False)"
      ],
      "execution_count": 57,
      "outputs": [
        {
          "output_type": "execute_result",
          "data": {
            "text/plain": [
              "<matplotlib.axes._subplots.AxesSubplot at 0x7fb7e0d62b00>"
            ]
          },
          "metadata": {
            "tags": []
          },
          "execution_count": 57
        },
        {
          "output_type": "display_data",
          "data": {
            "image/png": "[encoded data removed]",
            "text/plain": [
              "<Figure size 576x396 with 1 Axes>"
            ]
          },
          "metadata": {
            "tags": []
          }
        }
      ]
    },
    {
      "cell_type": "markdown",
      "metadata": {
        "id": "5htezCj7p5Jf",
        "colab_type": "text"
      },
      "source": [
        "compute the Dataset mean and std for normalization"
      ]
    },
    {
      "cell_type": "code",
      "metadata": {
        "id": "QW8nS6bNnrsD",
        "colab_type": "code",
        "outputId": "7bd65c75-6540-48ab-c660-8b8f789417ac",
        "colab": {
          "base_uri": "https://localhost:8080/",
          "height": 51
        }
      },
      "source": [
        "m1=0;m2=0;m3=0 # the mean for 3 channels \n",
        "s1=0;s2=0;s3=0 # std for 3 channels\n",
        "for images , labels in dataloader :\n",
        "  m1 += np.array(images[:,0,:,:]).mean()\n",
        "  m2 += np.array(images[:,1,:,:]).mean()\n",
        "  m3 += np.array(images[:,2,:,:]).mean()\n",
        "  s1 += np.array(images[:,0,:,:]).std()\n",
        "  s2 += np.array(images[:,1,:,:]).std()\n",
        "  s3 += np.array(images[:,2,:,:]).std()\n",
        "l=len(dataloader)\n",
        "print([m1/l,m2/l,m3/l])\n",
        "print([s1/l,s2/l,s3/l])"
      ],
      "execution_count": 75,
      "outputs": [
        {
          "output_type": "stream",
          "text": [
            "[0.10099044073195684, 0.10099044073195684, 0.10099044073195684]\n",
            "[0.3011995227563949, 0.3011995227563949, 0.3011995227563949]\n"
          ],
          "name": "stdout"
        }
      ]
    },
    {
      "cell_type": "code",
      "metadata": {
        "id": "eIzuW5AQ2oBy",
        "colab_type": "code",
        "colab": {}
      },
      "source": [
        "train_transforms = transforms.Compose([transforms.RandomRotation(5),\n",
        "                                       transforms.Resize(32),\n",
        "                                       transforms.RandomHorizontalFlip(),\n",
        "                                       transforms.ToTensor(),\n",
        "                                       transforms.Normalize(mean=[0.1, 0.1, 0.1], std=[0.301, 0.301, 0.301]) ])\n",
        "\n",
        "test_transforms = transforms.Compose([transforms.Resize(32),\n",
        "                                      transforms.ToTensor(),\n",
        "                                     transforms.Normalize([0.1, 0.1, 0.1], \n",
        "                                                            [0.301, 0.301, 0.301])])"
      ],
      "execution_count": 0,
      "outputs": []
    },
    {
      "cell_type": "code",
      "metadata": {
        "id": "eu5XT5QT4RD1",
        "colab_type": "code",
        "colab": {}
      },
      "source": [
        "\n",
        "train_data = datasets.ImageFolder('./arabic_train', transform=train_transforms)\n",
        "test_data = datasets.ImageFolder('./arabic_test', transform=test_transforms)\n",
        "train_loader = torch.utils.data.DataLoader(train_data, batch_size=32,shuffle=True)\n",
        "test_loader = torch.utils.data.DataLoader(test_data, batch_size=32,shuffle=True)"
      ],
      "execution_count": 0,
      "outputs": []
    },
    {
      "cell_type": "code",
      "metadata": {
        "id": "arr7I19Q4kNj",
        "colab_type": "code",
        "outputId": "c35287c5-c094-4b57-e852-8b75354e59bd",
        "colab": {
          "base_uri": "https://localhost:8080/",
          "height": 220
        }
      },
      "source": [
        "data_iter = iter(train_loader)\n",
        "test_iter=iter(test_loader)\n",
        "images, labels = next(data_iter)\n",
        "fig, axes = plt.subplots(figsize=(10,4), ncols=4)\n",
        "for ii in range(4):\n",
        "    ax = axes[ii]\n",
        "    Helper.imshow(images[ii], ax=ax, normalize=False)"
      ],
      "execution_count": 154,
      "outputs": [
        {
          "output_type": "stream",
          "text": [
            "Clipping input data to the valid range for imshow with RGB data ([0..1] for floats or [0..255] for integers).\n",
            "Clipping input data to the valid range for imshow with RGB data ([0..1] for floats or [0..255] for integers).\n",
            "Clipping input data to the valid range for imshow with RGB data ([0..1] for floats or [0..255] for integers).\n",
            "Clipping input data to the valid range for imshow with RGB data ([0..1] for floats or [0..255] for integers).\n"
          ],
          "name": "stderr"
        },
        {
          "output_type": "display_data",
          "data": {
            "image/png": "[encoded data removed]",
            "text/plain": [
              "<Figure size 720x288 with 4 Axes>"
            ]
          },
          "metadata": {
            "tags": []
          }
        }
      ]
    },
    {
      "cell_type": "markdown",
      "metadata": {
        "id": "KkQVdqS7qonA",
        "colab_type": "text"
      },
      "source": [
        "the network contain 2 cnn and  4 fully connected layers  , the input layer and 2 hidden layers and the output layer"
      ]
    },
    {
      "cell_type": "code",
      "metadata": {
        "id": "-Y-kxO7G5o4Z",
        "colab_type": "code",
        "outputId": "4c9669d1-eb6b-4e15-93a0-1e68ccb46826",
        "colab": {
          "base_uri": "https://localhost:8080/",
          "height": 496
        }
      },
      "source": [
        "import torch.nn as nn\n",
        "import math\n",
        "class Net(nn.Module):    \n",
        "    def __init__(self):\n",
        "        super(Net, self).__init__()\n",
        "\n",
        "        self.features = nn.Sequential(\n",
        "            nn.Conv2d(3, 16, kernel_size=3, stride=1, padding=1), # out : 16*32*32\n",
        "            nn.BatchNorm2d(16),\n",
        "            nn.ReLU(inplace=True),\n",
        "            nn.Conv2d(16, 64, kernel_size=3, stride=1, padding=1), # out : 64*32*32\n",
        "            nn.BatchNorm2d(64),\n",
        "            nn.ReLU(inplace=True),\n",
        "            nn.MaxPool2d(kernel_size=2, stride=2), #out : 64*16*16\n",
        "        )\n",
        "          \n",
        "        self.classifier = nn.Sequential(\n",
        "            nn.Linear(64 * 16 * 16, 5120),\n",
        "            nn.BatchNorm1d(5120),\n",
        "            nn.ReLU(inplace=True),\n",
        "            nn.Dropout(p = 0.5),\n",
        "            nn.Linear(5120, 2048),\n",
        "            nn.BatchNorm1d(2048),\n",
        "            nn.ReLU(inplace=True),\n",
        "            nn.Linear(2048, 1024),\n",
        "            nn.BatchNorm1d(1024),\n",
        "            nn.ReLU(inplace=True),\n",
        "            nn.Dropout(p = 0.25),\n",
        "            nn.Linear(1024, 28),\n",
        "            nn.LogSoftmax(dim=1)\n",
        "\n",
        "\n",
        "        )\n",
        "\n",
        "\n",
        "         # weight initalization to have 0 mean sqrt(2. / n) std\n",
        "        for m in self.features.children():\n",
        "            if isinstance(m, nn.Conv2d):\n",
        "                n = m.kernel_size[0] * m.kernel_size[1] * m.out_channels\n",
        "                m.weight.data.normal_(0, math.sqrt(2. / n))\n",
        "            elif isinstance(m, nn.BatchNorm2d):\n",
        "                m.weight.data.fill_(1)\n",
        "                m.bias.data.zero_()\n",
        "\n",
        "        # xavier weight initalization\n",
        "\n",
        "        for m in self.classifier.children():\n",
        "            if isinstance(m, nn.Linear):\n",
        "                nn.init.xavier_uniform(m.weight)\n",
        "            elif isinstance(m, nn.BatchNorm1d):\n",
        "                m.weight.data.fill_(1)\n",
        "                m.bias.data.zero_()\n",
        "                \n",
        "\n",
        "    def forward(self, x):\n",
        "        x = self.features(x)\n",
        "        x = x.view(x.size(0), -1)\n",
        "        x = self.classifier(x)\n",
        "        \n",
        "        return x \n",
        "model = Net()\n",
        "model.cuda()"
      ],
      "execution_count": 155,
      "outputs": [
        {
          "output_type": "stream",
          "text": [
            "/usr/local/lib/python3.6/dist-packages/ipykernel_launcher.py:49: UserWarning: nn.init.xavier_uniform is now deprecated in favor of nn.init.xavier_uniform_.\n"
          ],
          "name": "stderr"
        },
        {
          "output_type": "execute_result",
          "data": {
            "text/plain": [
              "Net(\n",
              "  (features): Sequential(\n",
              "    (0): Conv2d(3, 16, kernel_size=(3, 3), stride=(1, 1), padding=(1, 1))\n",
              "    (1): BatchNorm2d(16, eps=1e-05, momentum=0.1, affine=True, track_running_stats=True)\n",
              "    (2): ReLU(inplace)\n",
              "    (3): Conv2d(16, 64, kernel_size=(3, 3), stride=(1, 1), padding=(1, 1))\n",
              "    (4): BatchNorm2d(64, eps=1e-05, momentum=0.1, affine=True, track_running_stats=True)\n",
              "    (5): ReLU(inplace)\n",
              "    (6): MaxPool2d(kernel_size=2, stride=2, padding=0, dilation=1, ceil_mode=False)\n",
              "  )\n",
              "  (classifier): Sequential(\n",
              "    (0): Linear(in_features=16384, out_features=5120, bias=True)\n",
              "    (1): BatchNorm1d(5120, eps=1e-05, momentum=0.1, affine=True, track_running_stats=True)\n",
              "    (2): ReLU(inplace)\n",
              "    (3): Dropout(p=0.5)\n",
              "    (4): Linear(in_features=5120, out_features=2048, bias=True)\n",
              "    (5): BatchNorm1d(2048, eps=1e-05, momentum=0.1, affine=True, track_running_stats=True)\n",
              "    (6): ReLU(inplace)\n",
              "    (7): Linear(in_features=2048, out_features=1024, bias=True)\n",
              "    (8): BatchNorm1d(1024, eps=1e-05, momentum=0.1, affine=True, track_running_stats=True)\n",
              "    (9): ReLU(inplace)\n",
              "    (10): Dropout(p=0.25)\n",
              "    (11): Linear(in_features=1024, out_features=28, bias=True)\n",
              "    (12): LogSoftmax()\n",
              "  )\n",
              ")"
            ]
          },
          "metadata": {
            "tags": []
          },
          "execution_count": 155
        }
      ]
    },
    {
      "cell_type": "code",
      "metadata": {
        "id": "OLjffkig7JPy",
        "colab_type": "code",
        "outputId": "ccfcee64-d8da-4266-fe62-83f0f8246d4e",
        "colab": {
          "base_uri": "https://localhost:8080/",
          "height": 34
        }
      },
      "source": [
        "\n",
        "optimizer = torch.optim.Adam(model.parameters(),lr=1e-3, weight_decay=1e-5) #1e-3 , 1e-5\n",
        "\n",
        "criterion = nn.NLLLoss()\n",
        "criterion.cuda()"
      ],
      "execution_count": 156,
      "outputs": [
        {
          "output_type": "execute_result",
          "data": {
            "text/plain": [
              "NLLLoss()"
            ]
          },
          "metadata": {
            "tags": []
          },
          "execution_count": 156
        }
      ]
    },
    {
      "cell_type": "code",
      "metadata": {
        "id": "5tyz0w_W7wj7",
        "colab_type": "code",
        "outputId": "1ea14ee3-3230-4460-9a0a-80de8a6459d6",
        "colab": {
          "base_uri": "https://localhost:8080/",
          "height": 306
        }
      },
      "source": [
        "train_loss=0 \n",
        "epoch_accuracy=0\n",
        "loss_train=[]\n",
        "acc_train=[]\n",
        "for epoch in range(1,36):\n",
        "    train_loss=0\n",
        "    epoch_accuracy = 0\n",
        "    for x,y in train_loader :\n",
        "        x,y = x.cuda(),y.cuda()\n",
        "        y_pred = model(x)\n",
        "        loss = criterion(y_pred, y)\n",
        "        optimizer.zero_grad()\n",
        "        loss.backward()\n",
        "        optimizer.step()\n",
        "        train_loss+=loss.item()\n",
        "        pred = torch.exp(y_pred).data.max(1, keepdim=True)[1]\n",
        "        epoch_accuracy += pred.eq(y.data.view_as(pred)).cpu().sum()\n",
        "        \n",
        "    if epoch % 2 == 0 :\n",
        "        print(\"epoch :\",epoch,\" loss : \",train_loss/len(train_loader.dataset), \"acc :\",epoch_accuracy.item()/len(train_loader.dataset))\n",
        "    acc_train.append(100*epoch_accuracy.item()/len(train_loader.dataset))\n",
        "    loss_train.append(train_loss)"
      ],
      "execution_count": 157,
      "outputs": [
        {
          "output_type": "stream",
          "text": [
            "epoch : 2  loss :  0.028381647111936695 acc : 0.705654761904762\n",
            "epoch : 4  loss :  0.01877133533181179 acc : 0.7991071428571429\n",
            "epoch : 6  loss :  0.015121261819842316 acc : 0.8373511904761904\n",
            "epoch : 8  loss :  0.011988595418543333 acc : 0.8755208333333333\n",
            "epoch : 10  loss :  0.011012307687529496 acc : 0.8793154761904762\n",
            "epoch : 12  loss :  0.00993754116130904 acc : 0.8929315476190476\n",
            "epoch : 14  loss :  0.008518972322123036 acc : 0.9074404761904762\n",
            "epoch : 16  loss :  0.008875073031854948 acc : 0.9045386904761905\n",
            "epoch : 18  loss :  0.007254504410749567 acc : 0.9199404761904761\n",
            "epoch : 20  loss :  0.007465177494201011 acc : 0.9217261904761904\n",
            "epoch : 22  loss :  0.0066241530113897865 acc : 0.9328125\n",
            "epoch : 24  loss :  0.006892575212155602 acc : 0.9270833333333334\n",
            "epoch : 26  loss :  0.006268596694904513 acc : 0.9339285714285714\n",
            "epoch : 28  loss :  0.006231961655984854 acc : 0.9355654761904761\n",
            "epoch : 30  loss :  0.005532587699348196 acc : 0.9401785714285714\n",
            "epoch : 32  loss :  0.005575412715829554 acc : 0.9405505952380953\n",
            "epoch : 34  loss :  0.005252865569699289 acc : 0.9446428571428571\n"
          ],
          "name": "stdout"
        }
      ]
    },
    {
      "cell_type": "code",
      "metadata": {
        "id": "JUiL-4XJjTW5",
        "colab_type": "code",
        "colab": {
          "base_uri": "https://localhost:8080/",
          "height": 497
        },
        "outputId": "79b3cea0-e6c1-4a6e-c936-1f56c265bc01"
      },
      "source": [
        "import seaborn as sns\n",
        "\n",
        "t= np.array(loss_train).round(2)\n",
        "a= np.array(acc_train).round(2)\n",
        "\n",
        "t = 100* t/t.max()     # scalling the loss to be in [0,100], so i can plot it with the accuracy\n",
        "x=np.array(range(1,36)) # the x axis\n",
        "\n",
        "plt.figure(figsize=(10,8))\n",
        "plt.style.use('seaborn')\n",
        "\n",
        "plt.plot(x,t)\n",
        "plt.xlabel('epoches')\n",
        "plt.plot(x,a)\n",
        "plt.legend(['Loss', 'accuracy'], loc='upper left')\n",
        "plt.show()\n"
      ],
      "execution_count": 182,
      "outputs": [
        {
          "output_type": "display_data",
          "data": {
            "image/png": "[encoded data removed]",
            "text/plain": [
              "<Figure size 720x576 with 1 Axes>"
            ]
          },
          "metadata": {
            "tags": []
          }
        }
      ]
    },
    {
      "cell_type": "code",
      "metadata": {
        "id": "eLpyvKAe718k",
        "colab_type": "code",
        "outputId": "ea2e0883-f289-4643-a02b-d6541a6efa44",
        "colab": {
          "base_uri": "https://localhost:8080/",
          "height": 34
        }
      },
      "source": [
        "correct=0\n",
        "for x,y in test_loader :\n",
        "  x,y = x.cuda(),y.cuda()\n",
        "  out=model(x)\n",
        "  pred = torch.exp(out).data.max(1, keepdim=True)[1]\n",
        "  correct += pred.eq(y.data.view_as(pred)).cpu().sum().item()\n",
        "\n",
        "print(correct/len(test_loader.dataset))\n",
        "#84.96"
      ],
      "execution_count": 183,
      "outputs": [
        {
          "output_type": "stream",
          "text": [
            "0.8496576362012503\n"
          ],
          "name": "stdout"
        }
      ]
    }
  ]
}
