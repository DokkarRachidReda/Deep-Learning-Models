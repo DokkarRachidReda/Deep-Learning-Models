{
  "nbformat": 4,
  "nbformat_minor": 0,
  "metadata": {
    "colab": {
      "name": "Untitled",
      "version": "0.3.2",
      "provenance": [],
      "collapsed_sections": []
    },
    "kernelspec": {
      "name": "python3",
      "display_name": "Python 3"
    },
    "accelerator": "GPU"
  },
  "cells": [
    {
      "cell_type": "code",
      "metadata": {
        "id": "dQoLjwJTzpcv",
        "colab_type": "code",
        "colab": {}
      },
      "source": [
        "import pandas as pd\n",
        "import numpy as np\n",
        "\n",
        "import torch\n",
        "import torch.nn as nn\n",
        "import torch.nn.functional as F\n",
        "import torch.optim as optim\n",
        "from torch.optim import lr_scheduler\n",
        "from torch.autograd import Variable\n",
        "from torch.utils.data import DataLoader, Dataset\n",
        "from torchvision import transforms\n",
        "from torchvision.utils import make_grid\n",
        "\n",
        "import math\n",
        "import random\n",
        "\n",
        "from PIL import Image, ImageOps, ImageEnhance\n",
        "import numbers\n",
        "\n",
        "import matplotlib.pyplot as plt\n",
        "%matplotlib inline"
      ],
      "execution_count": 0,
      "outputs": []
    },
    {
      "cell_type": "code",
      "metadata": {
        "id": "vwzfCFEb0CKd",
        "colab_type": "code",
        "colab": {
          "base_uri": "https://localhost:8080/",
          "height": 68
        },
        "outputId": "b7ff30ea-e879-4e46-e8b2-a7c75aed633a"
      },
      "source": [
        "train_df = pd.read_csv('./drive/My Drive/Dataset/Digits/train.csv')\n",
        "\n",
        "n_train = len(train_df)\n",
        "n_pixels = len(train_df.columns) - 1\n",
        "n_class = len(set(train_df['label']))\n",
        "\n",
        "print('Number of training samples: {0}'.format(n_train))\n",
        "print('Number of training pixels: {0}'.format(n_pixels))\n",
        "print('Number of classes: {0}'.format(n_class))"
      ],
      "execution_count": 2,
      "outputs": [
        {
          "output_type": "stream",
          "text": [
            "Number of training samples: 42000\n",
            "Number of training pixels: 784\n",
            "Number of classes: 10\n"
          ],
          "name": "stdout"
        }
      ]
    },
    {
      "cell_type": "code",
      "metadata": {
        "id": "dMd2XGZl0OBO",
        "colab_type": "code",
        "colab": {
          "base_uri": "https://localhost:8080/",
          "height": 51
        },
        "outputId": "12fd6c52-e08b-4ba0-f0a6-6e4f165237cb"
      },
      "source": [
        "test_df = pd.read_csv('./drive/My Drive/Dataset/Digits/test.csv')\n",
        "\n",
        "n_test = len(test_df)\n",
        "n_pixels = len(test_df.columns)\n",
        "\n",
        "print('Number of train samples: {0}'.format(n_test))\n",
        "print('Number of test pixels: {0}'.format(n_pixels))"
      ],
      "execution_count": 3,
      "outputs": [
        {
          "output_type": "stream",
          "text": [
            "Number of train samples: 28000\n",
            "Number of test pixels: 784\n"
          ],
          "name": "stdout"
        }
      ]
    },
    {
      "cell_type": "code",
      "metadata": {
        "id": "UsoJRW_v0aKs",
        "colab_type": "code",
        "colab": {
          "base_uri": "https://localhost:8080/",
          "height": 230
        },
        "outputId": "2d50ad6c-5a53-4b2c-b403-e9f75a944b76"
      },
      "source": [
        "random_sel = np.random.randint(n_train, size=8)\n",
        "\n",
        "grid = make_grid(torch.Tensor((train_df.iloc[random_sel, 1:].as_matrix()/255.).reshape((-1, 28, 28))).unsqueeze(1), nrow=8)\n",
        "plt.rcParams['figure.figsize'] = (16, 2)\n",
        "plt.imshow(grid.numpy().transpose((1,2,0)))\n",
        "plt.axis('off')\n",
        "print(*list(train_df.iloc[random_sel, 0].values), sep = ', ')"
      ],
      "execution_count": 4,
      "outputs": [
        {
          "output_type": "stream",
          "text": [
            "2, 4, 4, 7, 8, 3, 7, 3\n"
          ],
          "name": "stdout"
        },
        {
          "output_type": "stream",
          "text": [
            "/usr/local/lib/python3.6/dist-packages/ipykernel_launcher.py:3: FutureWarning: Method .as_matrix will be removed in a future version. Use .values instead.\n",
            "  This is separate from the ipykernel package so we can avoid doing imports until\n"
          ],
          "name": "stderr"
        },
        {
          "output_type": "display_data",
          "data": {
            "image/png": "[encoded data removed]",
            "text/plain": [
              "<Figure size 1152x144 with 1 Axes>"
            ]
          },
          "metadata": {
            "tags": []
          }
        }
      ]
    },
    {
      "cell_type": "code",
      "metadata": {
        "id": "9VeQmB9l1fsM",
        "colab_type": "code",
        "colab": {
          "base_uri": "https://localhost:8080/",
          "height": 359
        },
        "outputId": "70b6aeea-e563-4f12-d35e-97c133d437a3"
      },
      "source": [
        "plt.rcParams['figure.figsize'] = (8, 5)\n",
        "plt.bar(train_df['label'].value_counts().index, train_df['label'].value_counts())\n",
        "plt.xticks(np.arange(n_class))\n",
        "plt.xlabel('Class', fontsize=16)\n",
        "plt.ylabel('Count', fontsize=16)"
      ],
      "execution_count": 5,
      "outputs": [
        {
          "output_type": "execute_result",
          "data": {
            "text/plain": [
              "Text(0, 0.5, 'Count')"
            ]
          },
          "metadata": {
            "tags": []
          },
          "execution_count": 5
        },
        {
          "output_type": "display_data",
          "data": {
            "image/png": "[encoded data removed]",
            "text/plain": [
              "<Figure size 576x360 with 1 Axes>"
            ]
          },
          "metadata": {
            "tags": []
          }
        }
      ]
    },
    {
      "cell_type": "code",
      "metadata": {
        "id": "CWDyzBUM1naq",
        "colab_type": "code",
        "colab": {}
      },
      "source": [
        "class MNIST_data(Dataset):\n",
        "    \"\"\"MNIST dtaa set\"\"\"\n",
        "    \n",
        "    def __init__(self, file_path, \n",
        "                 transform = transforms.Compose([transforms.ToPILImage(),transforms.RandomRotation(20),transforms.RandomHorizontalFlip() ,transforms.ToTensor(), \n",
        "                     transforms.Normalize(mean=(0.5,), std=(0.5,))])\n",
        "                ):\n",
        "        \n",
        "        df = pd.read_csv(file_path)\n",
        "        \n",
        "        if len(df.columns) == n_pixels:\n",
        "            # test data\n",
        "            self.X = df.values.reshape((-1,28,28)).astype(np.uint8)[:,:,:,None] # to make [784 value of 28*28 pixels]\n",
        "            self.y = None\n",
        "        else:\n",
        "            # training data\n",
        "            self.X = df.iloc[:,1:].values.reshape((-1,28,28)).astype(np.uint8)[:,:,:,None]\n",
        "            self.y = torch.from_numpy(df.iloc[:,0].values)\n",
        "            \n",
        "        self.transform = transform\n",
        "    \n",
        "    def __len__(self):\n",
        "        return len(self.X)\n",
        "\n",
        "    def __getitem__(self, idx):\n",
        "        if self.y is not None:\n",
        "            return self.transform(self.X[idx]), self.y[idx]\n",
        "        else:\n",
        "            return self.transform(self.X[idx])"
      ],
      "execution_count": 0,
      "outputs": []
    },
    {
      "cell_type": "code",
      "metadata": {
        "id": "uSdrTbqr1zKX",
        "colab_type": "code",
        "colab": {}
      },
      "source": [
        "batch_size = 64\n",
        "\n",
        "torch.set_default_tensor_type('torch.cuda.FloatTensor')\n",
        "\n",
        "train_dataset = MNIST_data('./drive/My Drive/Dataset/Digits/train.csv')\n",
        "test_dataset = MNIST_data('./drive/My Drive/Dataset/Digits/test.csv')\n",
        "\n",
        "\n",
        "train_loader = torch.utils.data.DataLoader(dataset=train_dataset,\n",
        "                                           batch_size=batch_size, shuffle=True)\n",
        "test_loader = torch.utils.data.DataLoader(dataset=test_dataset,\n",
        "                                           batch_size=batch_size, shuffle=False)"
      ],
      "execution_count": 0,
      "outputs": []
    },
    {
      "cell_type": "code",
      "metadata": {
        "id": "KgL1AkH-2Uu4",
        "colab_type": "code",
        "colab": {
          "base_uri": "https://localhost:8080/",
          "height": 564
        },
        "outputId": "a0eed8cd-fe59-4417-9806-f38b5b7441bf"
      },
      "source": [
        "class Net(nn.Module):    \n",
        "    def __init__(self):\n",
        "        super(Net, self).__init__()\n",
        "          \n",
        "        self.features = nn.Sequential(\n",
        "            nn.Conv2d(1, 32, kernel_size=3, stride=1, padding=1), # out : 32*28*28\n",
        "            nn.BatchNorm2d(32),\n",
        "            nn.ReLU(inplace=True),\n",
        "            nn.Conv2d(32, 32, kernel_size=3, stride=1, padding=1), # out : 32*28*28\n",
        "            nn.BatchNorm2d(32),\n",
        "            nn.ReLU(inplace=True),\n",
        "            nn.MaxPool2d(kernel_size=2, stride=2), #out : 32*14*14\n",
        "            nn.Conv2d(32, 64, kernel_size=3, padding=1), # out : 64*14*14\n",
        "            nn.BatchNorm2d(64),\n",
        "            nn.ReLU(inplace=True),\n",
        "            nn.Conv2d(64, 64, kernel_size=3, padding=1), # out : 64*14*14\n",
        "            nn.BatchNorm2d(64),\n",
        "            nn.ReLU(inplace=True),\n",
        "            nn.MaxPool2d(kernel_size=2, stride=2) # : 64*7*7\n",
        "        )\n",
        "          \n",
        "        self.classifier = nn.Sequential(\n",
        "            nn.Dropout(p = 0.5),\n",
        "            nn.Linear(64 * 7 * 7, 512),\n",
        "            nn.BatchNorm1d(512),\n",
        "            nn.ReLU(inplace=True),\n",
        "            nn.Dropout(p = 0.5),\n",
        "            nn.Linear(512, 512),\n",
        "            nn.BatchNorm1d(512),\n",
        "            nn.ReLU(inplace=True),\n",
        "            nn.Dropout(p = 0.5),\n",
        "            nn.Linear(512, 10),\n",
        "        )\n",
        "          # weight initalization to have 0 mean sqrt(2. / n) std\n",
        "        for m in self.features.children():\n",
        "            if isinstance(m, nn.Conv2d):\n",
        "                n = m.kernel_size[0] * m.kernel_size[1] * m.out_channels\n",
        "                m.weight.data.normal_(0, math.sqrt(2. / n))\n",
        "            elif isinstance(m, nn.BatchNorm2d):\n",
        "                m.weight.data.fill_(1)\n",
        "                m.bias.data.zero_()\n",
        "        \n",
        "        # xavier weight initalization\n",
        "\n",
        "        for m in self.classifier.children():\n",
        "            if isinstance(m, nn.Linear):\n",
        "                nn.init.xavier_uniform(m.weight)\n",
        "            elif isinstance(m, nn.BatchNorm1d):\n",
        "                m.weight.data.fill_(1)\n",
        "                m.bias.data.zero_()\n",
        "                \n",
        "\n",
        "    def forward(self, x):\n",
        "        x = self.features(x)\n",
        "        x = x.view(x.size(0), -1)\n",
        "        x = self.classifier(x)\n",
        "        \n",
        "        return x \n",
        "model = Net()\n",
        "model.cuda()    "
      ],
      "execution_count": 8,
      "outputs": [
        {
          "output_type": "stream",
          "text": [
            "/usr/local/lib/python3.6/dist-packages/ipykernel_launcher.py:47: UserWarning: nn.init.xavier_uniform is now deprecated in favor of nn.init.xavier_uniform_.\n"
          ],
          "name": "stderr"
        },
        {
          "output_type": "execute_result",
          "data": {
            "text/plain": [
              "Net(\n",
              "  (features): Sequential(\n",
              "    (0): Conv2d(1, 32, kernel_size=(3, 3), stride=(1, 1), padding=(1, 1))\n",
              "    (1): BatchNorm2d(32, eps=1e-05, momentum=0.1, affine=True, track_running_stats=True)\n",
              "    (2): ReLU(inplace)\n",
              "    (3): Conv2d(32, 32, kernel_size=(3, 3), stride=(1, 1), padding=(1, 1))\n",
              "    (4): BatchNorm2d(32, eps=1e-05, momentum=0.1, affine=True, track_running_stats=True)\n",
              "    (5): ReLU(inplace)\n",
              "    (6): MaxPool2d(kernel_size=2, stride=2, padding=0, dilation=1, ceil_mode=False)\n",
              "    (7): Conv2d(32, 64, kernel_size=(3, 3), stride=(1, 1), padding=(1, 1))\n",
              "    (8): BatchNorm2d(64, eps=1e-05, momentum=0.1, affine=True, track_running_stats=True)\n",
              "    (9): ReLU(inplace)\n",
              "    (10): Conv2d(64, 64, kernel_size=(3, 3), stride=(1, 1), padding=(1, 1))\n",
              "    (11): BatchNorm2d(64, eps=1e-05, momentum=0.1, affine=True, track_running_stats=True)\n",
              "    (12): ReLU(inplace)\n",
              "    (13): MaxPool2d(kernel_size=2, stride=2, padding=0, dilation=1, ceil_mode=False)\n",
              "  )\n",
              "  (classifier): Sequential(\n",
              "    (0): Dropout(p=0.5)\n",
              "    (1): Linear(in_features=3136, out_features=512, bias=True)\n",
              "    (2): BatchNorm1d(512, eps=1e-05, momentum=0.1, affine=True, track_running_stats=True)\n",
              "    (3): ReLU(inplace)\n",
              "    (4): Dropout(p=0.5)\n",
              "    (5): Linear(in_features=512, out_features=512, bias=True)\n",
              "    (6): BatchNorm1d(512, eps=1e-05, momentum=0.1, affine=True, track_running_stats=True)\n",
              "    (7): ReLU(inplace)\n",
              "    (8): Dropout(p=0.5)\n",
              "    (9): Linear(in_features=512, out_features=10, bias=True)\n",
              "  )\n",
              ")"
            ]
          },
          "metadata": {
            "tags": []
          },
          "execution_count": 8
        }
      ]
    },
    {
      "cell_type": "code",
      "metadata": {
        "id": "L7HBc4Pm3Gfx",
        "colab_type": "code",
        "colab": {}
      },
      "source": [
        "optimizer = optim.Adam(model.parameters(), lr=0.003)\n",
        "\n",
        "criterion = nn.CrossEntropyLoss()\n",
        "criterion.cuda()\n",
        "exp_lr_scheduler = lr_scheduler.StepLR(optimizer, step_size=7, gamma=0.1)"
      ],
      "execution_count": 0,
      "outputs": []
    },
    {
      "cell_type": "code",
      "metadata": {
        "id": "SwXDG3zn3muL",
        "colab_type": "code",
        "colab": {}
      },
      "source": [
        "def train(epoch):\n",
        "    model.train()\n",
        "    exp_lr_scheduler.step()\n",
        "\n",
        "    for batch_idx, (data, target) in enumerate(train_loader):\n",
        "        data, target = Variable(data), Variable(target)\n",
        "        \n",
        "        if torch.cuda.is_available():\n",
        "            data = data.cuda()\n",
        "            target = target.cuda()\n",
        "        \n",
        "        optimizer.zero_grad()\n",
        "        output = model(data)\n",
        "        loss = criterion(output, target)\n",
        "        \n",
        "        loss.backward()\n",
        "        optimizer.step()\n",
        "        \n",
        "        if (batch_idx + 1)% 100 == 0:\n",
        "            print('Train Epoch: {} [{}/{} ({:.0f}%)]\\tLoss: {:.6f}'.format(\n",
        "                epoch, (batch_idx + 1) * len(data), len(train_loader.dataset),\n",
        "                100. * (batch_idx + 1) / len(train_loader), loss.item()))"
      ],
      "execution_count": 0,
      "outputs": []
    },
    {
      "cell_type": "code",
      "metadata": {
        "id": "W6A_diKk32n3",
        "colab_type": "code",
        "colab": {}
      },
      "source": [
        "\n",
        "def evaluate(data_loader):\n",
        "    model.eval()\n",
        "    loss = 0\n",
        "    correct = 0\n",
        "    \n",
        "    for data, target in data_loader:\n",
        "        data, target = Variable(data, volatile=True), Variable(target)\n",
        "        if torch.cuda.is_available():\n",
        "            data = data.cuda()\n",
        "            target = target.cuda()\n",
        "        \n",
        "        output = model(data)\n",
        "        \n",
        "        loss += F.cross_entropy(output, target, size_average=False).item()\n",
        "\n",
        "        pred = output.data.max(1, keepdim=True)[1]\n",
        "        correct += pred.eq(target.data.view_as(pred)).cpu().sum()\n",
        "        \n",
        "    loss /= len(data_loader.dataset)\n",
        "        \n",
        "    print('\\nAverage loss: {:.4f}, Accuracy: {}/{} ({:.3f}%)\\n'.format(\n",
        "        loss, correct, len(data_loader.dataset),\n",
        "        100. * correct / len(data_loader.dataset)))"
      ],
      "execution_count": 0,
      "outputs": []
    },
    {
      "cell_type": "code",
      "metadata": {
        "id": "Tg-n8RDa35fZ",
        "colab_type": "code",
        "colab": {
          "base_uri": "https://localhost:8080/",
          "height": 870
        },
        "outputId": "6d215fc0-be29-4d88-a921-4d9dae44d63c"
      },
      "source": [
        "for epoch in range(5):\n",
        "    train(epoch)\n",
        "    evaluate(train_loader)"
      ],
      "execution_count": 16,
      "outputs": [
        {
          "output_type": "stream",
          "text": [
            "Train Epoch: 0 [6400/42000 (15%)]\tLoss: 0.260663\n",
            "Train Epoch: 0 [12800/42000 (30%)]\tLoss: 0.114764\n",
            "Train Epoch: 0 [19200/42000 (46%)]\tLoss: 0.335593\n",
            "Train Epoch: 0 [25600/42000 (61%)]\tLoss: 0.098717\n",
            "Train Epoch: 0 [32000/42000 (76%)]\tLoss: 0.202823\n",
            "Train Epoch: 0 [38400/42000 (91%)]\tLoss: 0.116354\n"
          ],
          "name": "stdout"
        },
        {
          "output_type": "stream",
          "text": [
            "/usr/local/lib/python3.6/dist-packages/ipykernel_launcher.py:8: UserWarning: volatile was removed and now has no effect. Use `with torch.no_grad():` instead.\n",
            "  \n",
            "/usr/local/lib/python3.6/dist-packages/torch/nn/_reduction.py:46: UserWarning: size_average and reduce args will be deprecated, please use reduction='sum' instead.\n",
            "  warnings.warn(warning.format(ret))\n"
          ],
          "name": "stderr"
        },
        {
          "output_type": "stream",
          "text": [
            "\n",
            "Average loss: 0.0930, Accuracy: 40768/42000 (97.000%)\n",
            "\n",
            "Train Epoch: 1 [6400/42000 (15%)]\tLoss: 0.246218\n",
            "Train Epoch: 1 [12800/42000 (30%)]\tLoss: 0.060317\n",
            "Train Epoch: 1 [19200/42000 (46%)]\tLoss: 0.272199\n",
            "Train Epoch: 1 [25600/42000 (61%)]\tLoss: 0.129702\n",
            "Train Epoch: 1 [32000/42000 (76%)]\tLoss: 0.103551\n",
            "Train Epoch: 1 [38400/42000 (91%)]\tLoss: 0.125642\n",
            "\n",
            "Average loss: 0.0696, Accuracy: 41067/42000 (97.000%)\n",
            "\n",
            "Train Epoch: 2 [6400/42000 (15%)]\tLoss: 0.194470\n",
            "Train Epoch: 2 [12800/42000 (30%)]\tLoss: 0.074870\n",
            "Train Epoch: 2 [19200/42000 (46%)]\tLoss: 0.182314\n",
            "Train Epoch: 2 [25600/42000 (61%)]\tLoss: 0.154577\n",
            "Train Epoch: 2 [32000/42000 (76%)]\tLoss: 0.184562\n",
            "Train Epoch: 2 [38400/42000 (91%)]\tLoss: 0.104446\n",
            "\n",
            "Average loss: 0.0610, Accuracy: 41168/42000 (98.000%)\n",
            "\n",
            "Train Epoch: 3 [6400/42000 (15%)]\tLoss: 0.301409\n",
            "Train Epoch: 3 [12800/42000 (30%)]\tLoss: 0.147715\n",
            "Train Epoch: 3 [19200/42000 (46%)]\tLoss: 0.180593\n",
            "Train Epoch: 3 [25600/42000 (61%)]\tLoss: 0.322605\n",
            "Train Epoch: 3 [32000/42000 (76%)]\tLoss: 0.023173\n",
            "Train Epoch: 3 [38400/42000 (91%)]\tLoss: 0.019821\n",
            "\n",
            "Average loss: 0.0669, Accuracy: 41105/42000 (97.000%)\n",
            "\n",
            "Train Epoch: 4 [6400/42000 (15%)]\tLoss: 0.184541\n",
            "Train Epoch: 4 [12800/42000 (30%)]\tLoss: 0.017824\n",
            "Train Epoch: 4 [19200/42000 (46%)]\tLoss: 0.071122\n",
            "Train Epoch: 4 [25600/42000 (61%)]\tLoss: 0.088244\n",
            "Train Epoch: 4 [32000/42000 (76%)]\tLoss: 0.172877\n",
            "Train Epoch: 4 [38400/42000 (91%)]\tLoss: 0.069800\n",
            "\n",
            "Average loss: 0.0559, Accuracy: 41276/42000 (98.000%)\n",
            "\n"
          ],
          "name": "stdout"
        }
      ]
    },
    {
      "cell_type": "code",
      "metadata": {
        "id": "N4izKEoL5GYA",
        "colab_type": "code",
        "colab": {}
      },
      "source": [
        "def prediciton(data_loader):\n",
        "    model.eval()\n",
        "    test_pred = torch.LongTensor()\n",
        "    \n",
        "    for i, data in enumerate(data_loader):\n",
        "        data = Variable(data, volatile=True)\n",
        "        if torch.cuda.is_available():\n",
        "            data = data.cuda()\n",
        "            \n",
        "        output = model(data)\n",
        "        \n",
        "        pred = output.cpu().data.max(1, keepdim=True)[1]\n",
        "        test_pred = torch.cat((test_pred, pred), dim=0)\n",
        "        \n",
        "    return test_pred"
      ],
      "execution_count": 0,
      "outputs": []
    },
    {
      "cell_type": "code",
      "metadata": {
        "id": "04-xKkdj5I2H",
        "colab_type": "code",
        "colab": {
          "base_uri": "https://localhost:8080/",
          "height": 71
        },
        "outputId": "430313a4-8609-46e5-a110-9e8c6c8042da"
      },
      "source": [
        "test_pred = prediciton(test_loader)\n"
      ],
      "execution_count": 14,
      "outputs": [
        {
          "output_type": "stream",
          "text": [
            "/usr/local/lib/python3.6/dist-packages/ipykernel_launcher.py:6: UserWarning: volatile was removed and now has no effect. Use `with torch.no_grad():` instead.\n",
            "  \n"
          ],
          "name": "stderr"
        }
      ]
    },
    {
      "cell_type": "code",
      "metadata": {
        "id": "_JDyAMSn7mvn",
        "colab_type": "code",
        "colab": {
          "base_uri": "https://localhost:8080/",
          "height": 349
        },
        "outputId": "831505ec-854d-42a1-eeab-91554f87fc04"
      },
      "source": [
        "\n",
        "grid = make_grid(torch.Tensor((test_df.iloc[0:8].as_matrix()/255.).reshape((-1, 28, 28))).cpu().unsqueeze(1), nrow=8)\n",
        "plt.rcParams['figure.figsize'] = (16, 2)\n",
        "plt.imshow(grid.numpy().transpose((1,2,0)))\n",
        "plt.axis('off')\n",
        "\n",
        "print(np.array(test_pred)[:8])"
      ],
      "execution_count": 15,
      "outputs": [
        {
          "output_type": "stream",
          "text": [
            "[[2]\n",
            " [0]\n",
            " [9]\n",
            " [9]\n",
            " [3]\n",
            " [7]\n",
            " [0]\n",
            " [3]]\n"
          ],
          "name": "stdout"
        },
        {
          "output_type": "stream",
          "text": [
            "/usr/local/lib/python3.6/dist-packages/ipykernel_launcher.py:2: FutureWarning: Method .as_matrix will be removed in a future version. Use .values instead.\n",
            "  \n"
          ],
          "name": "stderr"
        },
        {
          "output_type": "display_data",
          "data": {
            "image/png": "[encoded data removed]",
            "text/plain": [
              "<Figure size 1152x144 with 1 Axes>"
            ]
          },
          "metadata": {
            "tags": []
          }
        }
      ]
    }
  ]
}
