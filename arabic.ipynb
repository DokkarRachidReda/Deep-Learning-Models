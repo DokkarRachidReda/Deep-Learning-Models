{
  "nbformat": 4,
  "nbformat_minor": 0,
  "metadata": {
    "colab": {
      "name": "arabic.ipynb",
      "version": "0.3.2",
      "provenance": [],
      "collapsed_sections": []
    },
    "kernelspec": {
      "name": "python3",
      "display_name": "Python 3"
    },
    "accelerator": "GPU"
  },
  "cells": [
    {
      "cell_type": "code",
      "metadata": {
        "id": "n99qOcOIxnAr",
        "colab_type": "code",
        "colab": {}
      },
      "source": [
        ""
      ],
      "execution_count": 0,
      "outputs": []
    },
    {
      "cell_type": "markdown",
      "metadata": {
        "id": "4x3HpkhQodEO",
        "colab_type": "text"
      },
      "source": [
        "# Arabic letters classification\n",
        "## accuracy : 73.2 %\n",
        "## traininig accuracy : 91 %\n",
        "## Dataset : \n",
        "the training set containe 13440 image \n",
        "the test set containe 2760 image\n",
        "\n",
        "the images are 32x32 with 3 channels "
      ]
    },
    {
      "cell_type": "code",
      "metadata": {
        "id": "nHc9YSxFxuVz",
        "colab_type": "code",
        "outputId": "ac229dd8-deff-44d1-8e76-32d9fd565c27",
        "colab": {
          "base_uri": "https://localhost:8080/",
          "height": 122
        }
      },
      "source": [
        "from google.colab import drive\n",
        "drive.mount('/content/drive')"
      ],
      "execution_count": 1,
      "outputs": [
        {
          "output_type": "stream",
          "text": [
            "Go to this URL in a browser: https://accounts.google.com/o/oauth2/auth?client_id=947318989803-6bn6qk8qdgf4n4g3pfee6491hc0brc4i.apps.googleusercontent.com&redirect_uri=urn%3Aietf%3Awg%3Aoauth%3A2.0%3Aoob&scope=email%20https%3A%2F%2Fwww.googleapis.com%2Fauth%2Fdocs.test%20https%3A%2F%2Fwww.googleapis.com%2Fauth%2Fdrive%20https%3A%2F%2Fwww.googleapis.com%2Fauth%2Fdrive.photos.readonly%20https%3A%2F%2Fwww.googleapis.com%2Fauth%2Fpeopleapi.readonly&response_type=code\n",
            "\n",
            "Enter your authorization code:\n",
            "··········\n",
            "Mounted at /content/drive\n"
          ],
          "name": "stdout"
        }
      ]
    },
    {
      "cell_type": "code",
      "metadata": {
        "id": "DfasQ3RbiSZP",
        "colab_type": "code",
        "colab": {}
      },
      "source": [
        "! unzip './drive/My Drive/Dataset/arabic_train.zip' -d './arabic_train' > './zip_train.txt'\n",
        "\n",
        "! unzip './drive/My Drive/Dataset/arabic_test.zip' -d './arabic_test' > './zip_test.txt'"
      ],
      "execution_count": 0,
      "outputs": []
    },
    {
      "cell_type": "code",
      "metadata": {
        "id": "LR0W99Vv2Cao",
        "colab_type": "code",
        "outputId": "8edd3115-72e9-416a-a669-425e9764ef37",
        "colab": {
          "base_uri": "https://localhost:8080/",
          "height": 34
        }
      },
      "source": [
        "import torch\n",
        "from torchvision import datasets, transforms\n",
        "import numpy as np\n",
        "import matplotlib.pyplot as plt\n",
        "from torch.optim import lr_scheduler\n",
        "from torch.autograd import Variable\n",
        "\n",
        "train_on_gpu = torch.cuda.is_available()\n",
        "\n",
        "if not train_on_gpu:\n",
        "    print('CUDA is not available.  Training on CPU ...')\n",
        "else:\n",
        "    print('CUDA is available!  Training on GPU ...')"
      ],
      "execution_count": 3,
      "outputs": [
        {
          "output_type": "stream",
          "text": [
            "CUDA is available!  Training on GPU ...\n"
          ],
          "name": "stdout"
        }
      ]
    },
    {
      "cell_type": "code",
      "metadata": {
        "id": "sbH02aBf2Frd",
        "colab_type": "code",
        "colab": {}
      },
      "source": [
        "data_dir = './arabic_train'\n",
        "torch.set_default_tensor_type('torch.cuda.FloatTensor')\n",
        "\n",
        "transform = transforms.Compose([transforms.Resize(32),\n",
        "                                transforms.CenterCrop(32),\n",
        "                                transforms.ToTensor()])\n",
        "dataset = datasets.ImageFolder(data_dir, transform=transform)\n",
        "dataloader = torch.utils.data.DataLoader(dataset, batch_size=64, shuffle=True)"
      ],
      "execution_count": 0,
      "outputs": []
    },
    {
      "cell_type": "code",
      "metadata": {
        "id": "uvgxVLxh2XPE",
        "colab_type": "code",
        "outputId": "ff056368-c30d-4045-e174-f33e9d136746",
        "colab": {
          "base_uri": "https://localhost:8080/",
          "height": 347
        }
      },
      "source": [
        "import Helper\n",
        "images, labels = next(iter(dataloader))\n",
        "Helper.imshow(images[10], normalize=False)"
      ],
      "execution_count": 57,
      "outputs": [
        {
          "output_type": "execute_result",
          "data": {
            "text/plain": [
              "<matplotlib.axes._subplots.AxesSubplot at 0x7fb7e0d62b00>"
            ]
          },
          "metadata": {
            "tags": []
          },
          "execution_count": 57
        },
        {
          "output_type": "display_data",
          "data": {
            "image/png": "[encoded data removed]",
            "text/plain": [
              "<Figure size 576x396 with 1 Axes>"
            ]
          },
          "metadata": {
            "tags": []
          }
        }
      ]
    },
    {
      "cell_type": "markdown",
      "metadata": {
        "id": "5htezCj7p5Jf",
        "colab_type": "text"
      },
      "source": [
        "compute the Dataset mean and std for normalization"
      ]
    },
    {
      "cell_type": "code",
      "metadata": {
        "id": "QW8nS6bNnrsD",
        "colab_type": "code",
        "outputId": "a1652e7f-f7b5-460e-dc2a-6967d9c6e6d4",
        "colab": {
          "base_uri": "https://localhost:8080/",
          "height": 51
        }
      },
      "source": [
        "m1=0;m2=0;m3=0 # the mean for 3 channels \n",
        "s1=0;s2=0;s3=0 # std for 3 channels\n",
        "for images , labels in dataloader :\n",
        "  m1 += np.array(images[:,1,:,:]).mean()\n",
        "  m2 += np.array(images[:,1,:,:]).mean()\n",
        "  m3 += np.array(images[:,1,:,:]).mean()\n",
        "  s1 += np.array(images[:,1,:,:]).std()\n",
        "  s2 += np.array(images[:,1,:,:]).std()\n",
        "  s3 += np.array(images[:,1,:,:]).std()\n",
        "l=len(dataloader)\n",
        "print([m1/l,m2/l,m3/l])\n",
        "print([s1/l,s2/l,s3/l])"
      ],
      "execution_count": 8,
      "outputs": [
        {
          "output_type": "stream",
          "text": [
            "[0.10099044073195684, 0.10099044073195684, 0.10099044073195684]\n",
            "[0.30120781447206224, 0.30120781447206224, 0.30120781447206224]\n"
          ],
          "name": "stdout"
        }
      ]
    },
    {
      "cell_type": "code",
      "metadata": {
        "id": "eIzuW5AQ2oBy",
        "colab_type": "code",
        "colab": {}
      },
      "source": [
        "train_transforms = transforms.Compose([transforms.RandomRotation(5),\n",
        "                                       transforms.Resize(32),\n",
        "                                       transforms.RandomHorizontalFlip(),\n",
        "                                       transforms.ToTensor(),\n",
        "                                       transforms.Normalize(mean=[0.1, 0.1, 0.1], std=[0.301, 0.301, 0.301]) ])\n",
        "\n",
        "test_transforms = transforms.Compose([transforms.Resize(32),\n",
        "                                      transforms.ToTensor(),\n",
        "                                     transforms.Normalize([0.1, 0.1, 0.1], \n",
        "                                                            [0.301, 0.301, 0.301])])"
      ],
      "execution_count": 0,
      "outputs": []
    },
    {
      "cell_type": "code",
      "metadata": {
        "id": "eu5XT5QT4RD1",
        "colab_type": "code",
        "colab": {}
      },
      "source": [
        "\n",
        "train_data = datasets.ImageFolder('./arabic_train', transform=train_transforms)\n",
        "test_data = datasets.ImageFolder('./arabic_test', transform=test_transforms)\n",
        "train_loader = torch.utils.data.DataLoader(train_data, batch_size=32,shuffle=True)\n",
        "test_loader = torch.utils.data.DataLoader(test_data, batch_size=32,shuffle=True)"
      ],
      "execution_count": 0,
      "outputs": []
    },
    {
      "cell_type": "code",
      "metadata": {
        "id": "arr7I19Q4kNj",
        "colab_type": "code",
        "outputId": "6a1fb343-51fd-4b08-aab7-27eb85f15268",
        "colab": {
          "base_uri": "https://localhost:8080/",
          "height": 220
        }
      },
      "source": [
        "data_iter = iter(train_loader)\n",
        "test_iter=iter(test_loader)\n",
        "images, labels = next(data_iter)\n",
        "fig, axes = plt.subplots(figsize=(10,4), ncols=4)\n",
        "for ii in range(4):\n",
        "    ax = axes[ii]\n",
        "    Helper.imshow(images[ii], ax=ax, normalize=False)"
      ],
      "execution_count": 58,
      "outputs": [
        {
          "output_type": "stream",
          "text": [
            "Clipping input data to the valid range for imshow with RGB data ([0..1] for floats or [0..255] for integers).\n",
            "Clipping input data to the valid range for imshow with RGB data ([0..1] for floats or [0..255] for integers).\n",
            "Clipping input data to the valid range for imshow with RGB data ([0..1] for floats or [0..255] for integers).\n",
            "Clipping input data to the valid range for imshow with RGB data ([0..1] for floats or [0..255] for integers).\n"
          ],
          "name": "stderr"
        },
        {
          "output_type": "display_data",
          "data": {
            "image/png": "[encoded data removed]",
            "text/plain": [
              "<Figure size 720x288 with 4 Axes>"
            ]
          },
          "metadata": {
            "tags": []
          }
        }
      ]
    },
    {
      "cell_type": "markdown",
      "metadata": {
        "id": "KkQVdqS7qonA",
        "colab_type": "text"
      },
      "source": [
        "the network contain 4 layers , the input layer and 2 hidden layers and the output layer"
      ]
    },
    {
      "cell_type": "code",
      "metadata": {
        "id": "-Y-kxO7G5o4Z",
        "colab_type": "code",
        "outputId": "009a87c7-0eab-4a15-f092-c6d2cad3d924",
        "colab": {
          "base_uri": "https://localhost:8080/",
          "height": 343
        }
      },
      "source": [
        "import torch.nn as nn\n",
        "import math\n",
        "class Net(nn.Module):    \n",
        "    def __init__(self):\n",
        "        super(Net, self).__init__()\n",
        "          \n",
        "        self.classifier = nn.Sequential(\n",
        "            nn.Linear(3*32 * 32, 2048),\n",
        "            nn.BatchNorm1d(2048),\n",
        "            nn.ReLU(inplace=True),\n",
        "            nn.Dropout(p = 0.5),\n",
        "            nn.Linear(2048, 800),\n",
        "            nn.BatchNorm1d(800),\n",
        "            nn.ReLU(inplace=True),\n",
        "            nn.Linear(800, 128),\n",
        "            nn.BatchNorm1d(128),\n",
        "            nn.ReLU(inplace=True),\n",
        "            nn.Dropout(p = 0.15),\n",
        "            nn.Linear(128, 28),\n",
        "            nn.LogSoftmax(dim=1)\n",
        "\n",
        "\n",
        "        )\n",
        "        # xavier weight initalization\n",
        "\n",
        "        for m in self.classifier.children():\n",
        "            if isinstance(m, nn.Linear):\n",
        "                nn.init.xavier_uniform(m.weight)\n",
        "            elif isinstance(m, nn.BatchNorm1d):\n",
        "                m.weight.data.fill_(1)\n",
        "                m.bias.data.zero_()\n",
        "                \n",
        "\n",
        "    def forward(self, x):\n",
        "        x = x.view(x.size(0), -1)\n",
        "        x = self.classifier(x)\n",
        "        \n",
        "        return x \n",
        "model = Net()\n",
        "model.cuda()"
      ],
      "execution_count": 28,
      "outputs": [
        {
          "output_type": "stream",
          "text": [
            "/usr/local/lib/python3.6/dist-packages/ipykernel_launcher.py:28: UserWarning: nn.init.xavier_uniform is now deprecated in favor of nn.init.xavier_uniform_.\n"
          ],
          "name": "stderr"
        },
        {
          "output_type": "execute_result",
          "data": {
            "text/plain": [
              "Net(\n",
              "  (classifier): Sequential(\n",
              "    (0): Linear(in_features=3072, out_features=2048, bias=True)\n",
              "    (1): BatchNorm1d(2048, eps=1e-05, momentum=0.1, affine=True, track_running_stats=True)\n",
              "    (2): ReLU(inplace)\n",
              "    (3): Dropout(p=0.5)\n",
              "    (4): Linear(in_features=2048, out_features=800, bias=True)\n",
              "    (5): BatchNorm1d(800, eps=1e-05, momentum=0.1, affine=True, track_running_stats=True)\n",
              "    (6): ReLU(inplace)\n",
              "    (7): Linear(in_features=800, out_features=128, bias=True)\n",
              "    (8): BatchNorm1d(128, eps=1e-05, momentum=0.1, affine=True, track_running_stats=True)\n",
              "    (9): ReLU(inplace)\n",
              "    (10): Dropout(p=0.15)\n",
              "    (11): Linear(in_features=128, out_features=28, bias=True)\n",
              "    (12): LogSoftmax()\n",
              "  )\n",
              ")"
            ]
          },
          "metadata": {
            "tags": []
          },
          "execution_count": 28
        }
      ]
    },
    {
      "cell_type": "code",
      "metadata": {
        "id": "OLjffkig7JPy",
        "colab_type": "code",
        "colab": {}
      },
      "source": [
        "\n",
        "optimizer = torch.optim.Adam(model.parameters(),lr=1e-3, weight_decay=1e-5) #1e-3 , 1e-5\n",
        "\n",
        "criterion = nn.NLLLoss()\n",
        "criterion.cuda()"
      ],
      "execution_count": 0,
      "outputs": []
    },
    {
      "cell_type": "code",
      "metadata": {
        "id": "5tyz0w_W7wj7",
        "colab_type": "code",
        "outputId": "6258ae52-4a67-46a1-b1d0-3375e8f3e567",
        "colab": {
          "base_uri": "https://localhost:8080/",
          "height": 1000
        }
      },
      "source": [
        "train_loss=0 \n",
        "epoch_accuracy=0\n",
        "loss_train=[]\n",
        "acc_train=[]\n",
        "for epoch in range(1,150):\n",
        "    train_loss=0\n",
        "    epoch_accuracy = 0\n",
        "    for x,y in train_loader :\n",
        "        x,y = x.cuda(),y.cuda()\n",
        "        y_pred = model(x)\n",
        "        loss = criterion(y_pred, y)\n",
        "        optimizer.zero_grad()\n",
        "        loss.backward()\n",
        "        optimizer.step()\n",
        "        train_loss+=loss.item()\n",
        "        pred = torch.exp(y_pred).data.max(1, keepdim=True)[1]\n",
        "        epoch_accuracy += pred.eq(y.data.view_as(pred)).cpu().sum()\n",
        "        \n",
        "    if epoch % 2 == 0 :\n",
        "        print(\"epoch :\",epoch,\" loss : \",train_loss/len(train_loader.dataset), \"acc :\",epoch_accuracy.item()/len(train_loader.dataset))\n",
        "    acc_train.append(100*epoch_accuracy.item()/len(train_loader.dataset))\n",
        "    loss_train.append(train_loss)"
      ],
      "execution_count": 30,
      "outputs": [
        {
          "output_type": "stream",
          "text": [
            "epoch : 2  loss :  0.05022216579389004 acc : 0.48526785714285714\n",
            "epoch : 4  loss :  0.03944382467528894 acc : 0.5859375\n",
            "epoch : 6  loss :  0.03429245921738801 acc : 0.6362351190476191\n",
            "epoch : 8  loss :  0.030966459223557088 acc : 0.6676339285714286\n",
            "epoch : 10  loss :  0.028513184790721253 acc : 0.6945684523809523\n",
            "epoch : 12  loss :  0.026178279916001926 acc : 0.7191964285714286\n",
            "epoch : 14  loss :  0.024572506788674564 acc : 0.7364583333333333\n",
            "epoch : 16  loss :  0.022978872823573294 acc : 0.7507440476190477\n",
            "epoch : 18  loss :  0.021638560142101988 acc : 0.7663690476190477\n",
            "epoch : 20  loss :  0.021049068446847653 acc : 0.7720982142857142\n",
            "epoch : 22  loss :  0.019744874283094845 acc : 0.7810267857142857\n",
            "epoch : 24  loss :  0.018811941376355078 acc : 0.7932291666666667\n",
            "epoch : 26  loss :  0.01819250007559146 acc : 0.7974702380952381\n",
            "epoch : 28  loss :  0.017777210605951648 acc : 0.805952380952381\n",
            "epoch : 30  loss :  0.016612027883751407 acc : 0.8180059523809524\n",
            "epoch : 32  loss :  0.016042726995822574 acc : 0.8233630952380953\n",
            "epoch : 34  loss :  0.01597928523773416 acc : 0.8229166666666666\n",
            "epoch : 36  loss :  0.014789560800861745 acc : 0.8348958333333333\n",
            "epoch : 38  loss :  0.015027891333392333 acc : 0.8324404761904762\n",
            "epoch : 40  loss :  0.014451509224073518 acc : 0.8373511904761904\n",
            "epoch : 42  loss :  0.014245307783130556 acc : 0.840625\n",
            "epoch : 44  loss :  0.013802114639076449 acc : 0.8470982142857143\n",
            "epoch : 46  loss :  0.01334231361037209 acc : 0.854092261904762\n",
            "epoch : 48  loss :  0.013049148037541834 acc : 0.8566964285714286\n",
            "epoch : 50  loss :  0.012415677115565077 acc : 0.8628720238095238\n",
            "epoch : 52  loss :  0.01263004649275293 acc : 0.8552827380952381\n",
            "epoch : 54  loss :  0.012315611644936282 acc : 0.8617559523809524\n",
            "epoch : 56  loss :  0.012468937017200959 acc : 0.8607142857142858\n",
            "epoch : 58  loss :  0.012159551669555228 acc : 0.867485119047619\n",
            "epoch : 60  loss :  0.012005886530304061 acc : 0.8682291666666667\n",
            "epoch : 62  loss :  0.011610629375181383 acc : 0.8764136904761904\n",
            "epoch : 64  loss :  0.01135725136402817 acc : 0.8723958333333334\n",
            "epoch : 66  loss :  0.011512779658992908 acc : 0.8731398809523809\n",
            "epoch : 68  loss :  0.01120996574616237 acc : 0.878125\n",
            "epoch : 70  loss :  0.011073461535852402 acc : 0.8796875\n",
            "epoch : 72  loss :  0.010142205968233092 acc : 0.8886904761904761\n",
            "epoch : 74  loss :  0.010701061327875192 acc : 0.8799107142857143\n",
            "epoch : 76  loss :  0.010347289388023671 acc : 0.8890625\n",
            "epoch : 78  loss :  0.010377402530450906 acc : 0.8836309523809524\n",
            "epoch : 80  loss :  0.009736191694225583 acc : 0.8927083333333333\n",
            "epoch : 82  loss :  0.01037175056990236 acc : 0.8849702380952381\n",
            "epoch : 84  loss :  0.010205704482117047 acc : 0.8897321428571429\n",
            "epoch : 86  loss :  0.009772780302002848 acc : 0.8909970238095238\n",
            "epoch : 88  loss :  0.00990330264460118 acc : 0.8911458333333333\n",
            "epoch : 90  loss :  0.009571039539739666 acc : 0.896875\n",
            "epoch : 92  loss :  0.009773702579661318 acc : 0.8917410714285714\n",
            "epoch : 94  loss :  0.009701363459074248 acc : 0.8953869047619047\n",
            "epoch : 96  loss :  0.0095923872420653 acc : 0.8922619047619048\n",
            "epoch : 98  loss :  0.009390309256767588 acc : 0.8979166666666667\n",
            "epoch : 100  loss :  0.009282769846530365 acc : 0.893154761904762\n",
            "epoch : 102  loss :  0.009002943048697143 acc : 0.9001488095238095\n",
            "epoch : 104  loss :  0.009389476833998092 acc : 0.8994791666666667\n",
            "epoch : 106  loss :  0.008959752109755451 acc : 0.9011160714285714\n",
            "epoch : 108  loss :  0.008968942556973725 acc : 0.9019345238095238\n",
            "epoch : 110  loss :  0.009010676480829715 acc : 0.9008928571428572\n",
            "epoch : 112  loss :  0.009111092366566438 acc : 0.9005208333333333\n",
            "epoch : 114  loss :  0.008654113214219078 acc : 0.9047619047619048\n",
            "epoch : 116  loss :  0.008717667739949234 acc : 0.9045386904761905\n",
            "epoch : 118  loss :  0.008403584495508334 acc : 0.9080357142857143\n",
            "epoch : 120  loss :  0.008852101320544967 acc : 0.9017857142857143\n",
            "epoch : 122  loss :  0.008824164718611254 acc : 0.9029017857142857\n",
            "epoch : 124  loss :  0.008735966882557563 acc : 0.9055059523809523\n",
            "epoch : 126  loss :  0.008825041500607594 acc : 0.9032738095238095\n",
            "epoch : 128  loss :  0.008238418079036776 acc : 0.9086309523809524\n",
            "epoch : 130  loss :  0.008934754515731974 acc : 0.9054315476190476\n",
            "epoch : 132  loss :  0.008552142548363744 acc : 0.9078125\n",
            "epoch : 134  loss :  0.008277615365971411 acc : 0.9086309523809524\n",
            "epoch : 136  loss :  0.008345751517030988 acc : 0.9085565476190476\n",
            "epoch : 138  loss :  0.008475829624304813 acc : 0.9082589285714285\n",
            "epoch : 140  loss :  0.008654512443657343 acc : 0.9071428571428571\n",
            "epoch : 142  loss :  0.008247519132592494 acc : 0.9086309523809524\n",
            "epoch : 144  loss :  0.008060624157466615 acc : 0.9117559523809524\n",
            "epoch : 146  loss :  0.008562060765966419 acc : 0.9040922619047619\n",
            "epoch : 148  loss :  0.008020083765066894 acc : 0.9131696428571429\n"
          ],
          "name": "stdout"
        }
      ]
    },
    {
      "cell_type": "code",
      "metadata": {
        "id": "JUiL-4XJjTW5",
        "colab_type": "code",
        "colab": {
          "base_uri": "https://localhost:8080/",
          "height": 497
        },
        "outputId": "5a221541-fe48-4c32-9d2d-2d3df8099806"
      },
      "source": [
        "import seaborn as sns\n",
        "\n",
        "t= np.array(loss_train).round(2)\n",
        "a= np.array(acc_train).round(2)\n",
        "\n",
        "t = 100* t/t.max()     # scalling the loss to be in [0,100], so i can plot it with the accuracy\n",
        "x=np.array(range(1,150)) # the x axis\n",
        "\n",
        "plt.figure(figsize=(10,8))\n",
        "plt.style.use('seaborn')\n",
        "\n",
        "plt.plot(x,t)\n",
        "plt.xlabel('epoches')\n",
        "plt.plot(x,a)\n",
        "plt.legend(['Loss', 'accuracy'], loc='upper left')\n",
        "plt.show()\n"
      ],
      "execution_count": 52,
      "outputs": [
        {
          "output_type": "display_data",
          "data": {
            "image/png": "[encoded data removed]",
            "text/plain": [
              "<Figure size 720x576 with 1 Axes>"
            ]
          },
          "metadata": {
            "tags": []
          }
        }
      ]
    },
    {
      "cell_type": "code",
      "metadata": {
        "id": "eLpyvKAe718k",
        "colab_type": "code",
        "outputId": "db47aed0-15ee-447e-e3d5-d0cd91f20eba",
        "colab": {
          "base_uri": "https://localhost:8080/",
          "height": 34
        }
      },
      "source": [
        "correct=0\n",
        "for x,y in test_loader :\n",
        "  x,y = x.cuda(),y.cuda()\n",
        "  out=model(x)\n",
        "  pred = torch.exp(out).data.max(1, keepdim=True)[1]\n",
        "  correct += pred.eq(y.data.view_as(pred)).cpu().sum().item()\n",
        "\n",
        "print(correct/len(test_loader.dataset))\n"
      ],
      "execution_count": 73,
      "outputs": [
        {
          "output_type": "stream",
          "text": [
            "0.732360821673117\n"
          ],
          "name": "stdout"
        }
      ]
    }
  ]
}